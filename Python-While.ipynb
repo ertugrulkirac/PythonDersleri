{
 "cells": [
  {
   "cell_type": "code",
   "execution_count": 1,
   "id": "5801a283",
   "metadata": {},
   "outputs": [
    {
     "name": "stdout",
     "output_type": "stream",
     "text": [
      "Merhaba Dünya\n",
      "Merhaba Dünya\n",
      "Merhaba Dünya\n",
      "Merhaba Dünya\n",
      "Merhaba Dünya\n",
      "Merhaba Dünya\n"
     ]
    }
   ],
   "source": [
    "x=0\n",
    "while(x<=5):\n",
    "    print(\"Merhaba Dünya\")\n",
    "    x=x+1"
   ]
  },
  {
   "cell_type": "code",
   "execution_count": 2,
   "id": "1b30dd46",
   "metadata": {},
   "outputs": [
    {
     "name": "stdout",
     "output_type": "stream",
     "text": [
      "3 in liste\n",
      "3 in liste\n",
      "3 in liste\n"
     ]
    }
   ],
   "source": [
    "liste=[1,2,3,4,5]\n",
    "while 3 in liste:\n",
    "    print(\"3 in liste\")\n",
    "    liste.pop()"
   ]
  },
  {
   "cell_type": "code",
   "execution_count": 4,
   "id": "dcbbecbf",
   "metadata": {},
   "outputs": [
    {
     "name": "stdout",
     "output_type": "stream",
     "text": [
      "1 in liste\n",
      "1 in liste\n",
      "1 in liste\n",
      "1 in liste\n",
      "1 in liste\n"
     ]
    }
   ],
   "source": [
    "liste=[1,2,3,4,5]\n",
    "while 1 in liste:\n",
    "    print(\"1 in liste\")\n",
    "    liste.pop()"
   ]
  },
  {
   "cell_type": "code",
   "execution_count": 8,
   "id": "66e8337e",
   "metadata": {},
   "outputs": [
    {
     "name": "stdout",
     "output_type": "stream",
     "text": [
      "value x:0\n",
      "value x:1\n",
      "value x:2\n",
      "value x:3\n",
      "value x:4\n",
      "value x:5\n",
      "value x:6\n",
      "value x:7\n",
      "value x:8\n",
      "value x:9\n",
      "value x:10\n",
      "value x:11\n",
      "value x:12\n",
      "value x:13\n",
      "value x:14\n"
     ]
    }
   ],
   "source": [
    "x=0\n",
    "while(x < 15):\n",
    "    print(f\"value x:{x}\")\n",
    "    x=x+1"
   ]
  },
  {
   "cell_type": "code",
   "execution_count": null,
   "id": "4f223dcf",
   "metadata": {},
   "outputs": [],
   "source": []
  },
  {
   "cell_type": "code",
   "execution_count": null,
   "id": "1043743d",
   "metadata": {},
   "outputs": [],
   "source": []
  }
 ],
 "metadata": {
  "kernelspec": {
   "display_name": "Python 3 (ipykernel)",
   "language": "python",
   "name": "python3"
  },
  "language_info": {
   "codemirror_mode": {
    "name": "ipython",
    "version": 3
   },
   "file_extension": ".py",
   "mimetype": "text/x-python",
   "name": "python",
   "nbconvert_exporter": "python",
   "pygments_lexer": "ipython3",
   "version": "3.9.12"
  }
 },
 "nbformat": 4,
 "nbformat_minor": 5
}
