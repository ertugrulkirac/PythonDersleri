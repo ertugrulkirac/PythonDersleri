{
 "cells": [
  {
   "cell_type": "code",
   "execution_count": 3,
   "id": "d5bada82",
   "metadata": {},
   "outputs": [
    {
     "name": "stdout",
     "output_type": "stream",
     "text": [
      "10\n",
      "20\n"
     ]
    }
   ],
   "source": [
    "liste=(10, 20, 30, 40, 50)\n",
    "for sayi in liste:\n",
    "    if sayi==30:\n",
    "       break\n",
    "    print(sayi)"
   ]
  },
  {
   "cell_type": "code",
   "execution_count": 4,
   "id": "94d5e0dd",
   "metadata": {},
   "outputs": [
    {
     "name": "stdout",
     "output_type": "stream",
     "text": [
      "---------- Örnek: 5 ile çarpılmış hali ----------\n",
      "50\n",
      "100\n",
      "150\n",
      "200\n",
      "250\n"
     ]
    }
   ],
   "source": [
    "liste=(10, 20, 30, 40, 50)\n",
    "print(\"-\"*10, \"Örnek: 5 ile çarpılmış hali\", \"-\"*10)\n",
    "for sayi in liste:\n",
    "    print(sayi*5)"
   ]
  },
  {
   "cell_type": "code",
   "execution_count": 4,
   "id": "ecb28448",
   "metadata": {},
   "outputs": [
    {
     "name": "stdout",
     "output_type": "stream",
     "text": [
      "---------- Örnek Çıktı-1 ----------\n",
      "10\n",
      "20\n",
      "30\n",
      "40\n",
      "50\n",
      "60\n",
      "---------- Örnek Çıktı-2 ----------\n",
      "10\n",
      "20\n",
      "40\n",
      "50\n",
      "60\n"
     ]
    }
   ],
   "source": [
    "sayilar=[5,10,15,20,25,30]\n",
    "print(\"-\"*10,\"Örnek Çıktı-1\",\"-\"*10)\n",
    "for sayi in sayilar:\n",
    "    print(sayi*2)\n",
    "print(\"-\"*10,\"Örnek Çıktı-2\",\"-\"*10)\n",
    "for sayi in sayilar:\n",
    "    if sayi==15:\n",
    "        continue\n",
    "    print(sayi*2)\n",
    "        "
   ]
  },
  {
   "cell_type": "code",
   "execution_count": 5,
   "id": "773b1513",
   "metadata": {},
   "outputs": [
    {
     "ename": "IndentationError",
     "evalue": "expected an indented block (3854163482.py, line 2)",
     "output_type": "error",
     "traceback": [
      "\u001b[1;36m  Input \u001b[1;32mIn [5]\u001b[1;36m\u001b[0m\n\u001b[1;33m    for sayi3 in sayilar3:\u001b[0m\n\u001b[1;37m                          ^\u001b[0m\n\u001b[1;31mIndentationError\u001b[0m\u001b[1;31m:\u001b[0m expected an indented block\n"
     ]
    }
   ],
   "source": [
    "sayilar3=[1,2,3,4,5]\n",
    "for sayi3 in sayilar3:"
   ]
  },
  {
   "cell_type": "code",
   "execution_count": 6,
   "id": "66d57021",
   "metadata": {},
   "outputs": [],
   "source": [
    "sayilar3=[1,2,3,4,5]\n",
    "for sayi3 in sayilar3:\n",
    "    pass"
   ]
  },
  {
   "cell_type": "code",
   "execution_count": null,
   "id": "39899b84",
   "metadata": {},
   "outputs": [],
   "source": []
  }
 ],
 "metadata": {
  "kernelspec": {
   "display_name": "Python 3 (ipykernel)",
   "language": "python",
   "name": "python3"
  },
  "language_info": {
   "codemirror_mode": {
    "name": "ipython",
    "version": 3
   },
   "file_extension": ".py",
   "mimetype": "text/x-python",
   "name": "python",
   "nbconvert_exporter": "python",
   "pygments_lexer": "ipython3",
   "version": "3.9.12"
  }
 },
 "nbformat": 4,
 "nbformat_minor": 5
}
