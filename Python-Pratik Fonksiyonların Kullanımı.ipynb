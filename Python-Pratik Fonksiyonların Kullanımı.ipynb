{
 "cells": [
  {
   "cell_type": "code",
   "execution_count": 2,
   "id": "0d2c3448",
   "metadata": {},
   "outputs": [
    {
     "data": {
      "text/plain": [
       "5.0"
      ]
     },
     "execution_count": 2,
     "metadata": {},
     "output_type": "execute_result"
    }
   ],
   "source": [
    "def bolme(sayi):\n",
    "    return sayi/2\n",
    "bolme(10)"
   ]
  },
  {
   "cell_type": "code",
   "execution_count": 3,
   "id": "a78cd190",
   "metadata": {},
   "outputs": [
    {
     "name": "stdout",
     "output_type": "stream",
     "text": [
      "0.5\n",
      "1.0\n",
      "1.5\n",
      "2.0\n",
      "2.5\n",
      "3.0\n"
     ]
    }
   ],
   "source": [
    "listem={1, 2, 3, 4, 5, 6}\n",
    "for sayi2 in listem:\n",
    "    print(bolme(sayi2))"
   ]
  },
  {
   "cell_type": "code",
   "execution_count": 4,
   "id": "d0ed29e6",
   "metadata": {},
   "outputs": [
    {
     "data": {
      "text/plain": [
       "<map at 0x29f3c9a6cd0>"
      ]
     },
     "execution_count": 4,
     "metadata": {},
     "output_type": "execute_result"
    }
   ],
   "source": [
    "map(bolme,listem)"
   ]
  },
  {
   "cell_type": "code",
   "execution_count": 5,
   "id": "2f000d24",
   "metadata": {},
   "outputs": [
    {
     "data": {
      "text/plain": [
       "[0.5, 1.0, 1.5, 2.0, 2.5, 3.0]"
      ]
     },
     "execution_count": 5,
     "metadata": {},
     "output_type": "execute_result"
    }
   ],
   "source": [
    "list(map(bolme,listem))"
   ]
  },
  {
   "cell_type": "code",
   "execution_count": 6,
   "id": "3791a3e5",
   "metadata": {},
   "outputs": [
    {
     "data": {
      "text/plain": [
       "True"
      ]
     },
     "execution_count": 6,
     "metadata": {},
     "output_type": "execute_result"
    }
   ],
   "source": [
    "def kontrol(str):\n",
    "    if \"ertugrul\" in str:\n",
    "        return True\n",
    "kontrol(\"ahmet ersin ertugrul\")"
   ]
  },
  {
   "cell_type": "code",
   "execution_count": 7,
   "id": "17982c08",
   "metadata": {},
   "outputs": [],
   "source": [
    "def kontrol(str):\n",
    "    return \"ertugrul\" in str"
   ]
  },
  {
   "cell_type": "code",
   "execution_count": 8,
   "id": "ae30d445",
   "metadata": {},
   "outputs": [
    {
     "data": {
      "text/plain": [
       "True"
      ]
     },
     "execution_count": 8,
     "metadata": {},
     "output_type": "execute_result"
    }
   ],
   "source": [
    "kontrol(\"ahmet ersin ertugrul\")"
   ]
  },
  {
   "cell_type": "code",
   "execution_count": 9,
   "id": "4383cd81",
   "metadata": {},
   "outputs": [
    {
     "data": {
      "text/plain": [
       "['elma', 'elma2']"
      ]
     },
     "execution_count": 9,
     "metadata": {},
     "output_type": "execute_result"
    }
   ],
   "source": [
    "def kontrol2(str2):\n",
    "    return \"elma\" in str2\n",
    "meyveler=[\"muz\", \"elma\", \"erik\", \"armut\", \"elma2\", \"çilek\"]\n",
    "list(filter(kontrol2,meyveler))"
   ]
  },
  {
   "cell_type": "code",
   "execution_count": 10,
   "id": "636dd1da",
   "metadata": {},
   "outputs": [
    {
     "data": {
      "text/plain": [
       "4"
      ]
     },
     "execution_count": 10,
     "metadata": {},
     "output_type": "execute_result"
    }
   ],
   "source": [
    "def carpma1(sayi1):\n",
    "    return sayi1*2\n",
    "carpma1(2)"
   ]
  },
  {
   "cell_type": "code",
   "execution_count": 12,
   "id": "19d585a7",
   "metadata": {},
   "outputs": [
    {
     "data": {
      "text/plain": [
       "6"
      ]
     },
     "execution_count": 12,
     "metadata": {},
     "output_type": "execute_result"
    }
   ],
   "source": [
    "def carpma2(sayi2):return sayi2*2\n",
    "carpma2(3)"
   ]
  },
  {
   "cell_type": "code",
   "execution_count": 13,
   "id": "f2dd97ed",
   "metadata": {},
   "outputs": [
    {
     "data": {
      "text/plain": [
       "4"
      ]
     },
     "execution_count": 13,
     "metadata": {},
     "output_type": "execute_result"
    }
   ],
   "source": [
    "carpma3 = lambda sayi3:sayi3*2\n",
    "carpma3(2)"
   ]
  },
  {
   "cell_type": "code",
   "execution_count": null,
   "id": "dc99e41d",
   "metadata": {},
   "outputs": [],
   "source": []
  }
 ],
 "metadata": {
  "kernelspec": {
   "display_name": "Python 3 (ipykernel)",
   "language": "python",
   "name": "python3"
  },
  "language_info": {
   "codemirror_mode": {
    "name": "ipython",
    "version": 3
   },
   "file_extension": ".py",
   "mimetype": "text/x-python",
   "name": "python",
   "nbconvert_exporter": "python",
   "pygments_lexer": "ipython3",
   "version": "3.9.12"
  }
 },
 "nbformat": 4,
 "nbformat_minor": 5
}
