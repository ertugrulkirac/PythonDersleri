{
 "cells": [
  {
   "cell_type": "code",
   "execution_count": 17,
   "id": "45dff1cf",
   "metadata": {},
   "outputs": [
    {
     "name": "stdout",
     "output_type": "stream",
     "text": [
      "fonksiyon1 başlangıcı\n",
      "Merhaba Dünya!\n",
      "fonksiyon1 içindeki 'girdi_fonks'um ben\n"
     ]
    }
   ],
   "source": [
    "def fonksiyon1(girdi_fonks):\n",
    "    print(\"fonksiyon1 başlangıcı\")\n",
    "    girdi_fonks()\n",
    "    print(\"fonksiyon1 içindeki 'girdi_fonks'um ben\")\n",
    "def hello_world():\n",
    "    print(\"Merhaba Dünya!\")\n",
    "fonksiyon1(hello_world)"
   ]
  },
  {
   "cell_type": "code",
   "execution_count": 18,
   "id": "026a58e8",
   "metadata": {},
   "outputs": [
    {
     "ename": "NameError",
     "evalue": "name 'altFonksiyon' is not defined",
     "output_type": "error",
     "traceback": [
      "\u001b[1;31m---------------------------------------------------------------------------\u001b[0m",
      "\u001b[1;31mNameError\u001b[0m                                 Traceback (most recent call last)",
      "Input \u001b[1;32mIn [18]\u001b[0m, in \u001b[0;36m<cell line: 4>\u001b[1;34m()\u001b[0m\n\u001b[0;32m      2\u001b[0m     \u001b[38;5;28;01mdef\u001b[39;00m \u001b[38;5;21maltFonksiyon\u001b[39m():\n\u001b[0;32m      3\u001b[0m         \u001b[38;5;28mprint\u001b[39m(\u001b[38;5;124m\"\u001b[39m\u001b[38;5;124mErtugru\u001b[39m\u001b[38;5;124m\"\u001b[39m)\n\u001b[1;32m----> 4\u001b[0m \u001b[43maltFonksiyon\u001b[49m()\n",
      "\u001b[1;31mNameError\u001b[0m: name 'altFonksiyon' is not defined"
     ]
    }
   ],
   "source": [
    "def anaFonksiyon():\n",
    "    def altFonksiyon():\n",
    "        print(\"Ertugru\")\n",
    "altFonksiyon()"
   ]
  },
  {
   "cell_type": "code",
   "execution_count": 19,
   "id": "1d7716c0",
   "metadata": {},
   "outputs": [
    {
     "name": "stdout",
     "output_type": "stream",
     "text": [
      "Deneme\n"
     ]
    }
   ],
   "source": [
    "def anaFonksiyon1():\n",
    "    def altFonksiyon1():\n",
    "        print(\"Deneme\")\n",
    "    altFonksiyon1()\n",
    "anaFonksiyon1()"
   ]
  },
  {
   "cell_type": "code",
   "execution_count": 7,
   "id": "e466d65d",
   "metadata": {},
   "outputs": [
    {
     "name": "stdout",
     "output_type": "stream",
     "text": [
      "Ertugrul\n"
     ]
    }
   ],
   "source": [
    "def fonk1():\n",
    "    def fonk2():\n",
    "        print(\"Ertugrul\")\n",
    "    return fonk2()\n",
    "string_deger=fonk1()\n",
    "string_deger"
   ]
  },
  {
   "cell_type": "code",
   "execution_count": 10,
   "id": "89ec73e7",
   "metadata": {},
   "outputs": [
    {
     "name": "stdout",
     "output_type": "stream",
     "text": [
      "function2 başladı\n",
      "ben input function\n",
      "function2 bitti\n"
     ]
    }
   ],
   "source": [
    "def function1(_function):\n",
    "    def function2():\n",
    "        print(\"function2 başladı\")\n",
    "        _function()\n",
    "        print(\"function2 bitti\")\n",
    "    return function2()\n",
    "def input_funciton():\n",
    "    print(\"ben input function\")\n",
    "out_function=function1(input_funciton)\n",
    "out_function\n"
   ]
  },
  {
   "cell_type": "code",
   "execution_count": 11,
   "id": "14fc0c25",
   "metadata": {},
   "outputs": [
    {
     "name": "stdout",
     "output_type": "stream",
     "text": [
      "function2 başladı\n",
      "deneme\n",
      "function2 bitti\n"
     ]
    }
   ],
   "source": [
    "@function1\n",
    "def input_func():\n",
    "    print(\"deneme\")"
   ]
  },
  {
   "cell_type": "code",
   "execution_count": null,
   "id": "1e284fea",
   "metadata": {},
   "outputs": [
    {
     "name": "stdout",
     "output_type": "stream",
     "text": [
      "Birinci sayıyı giriniz:8\n",
      "İkinci sayıyı giriniz:4\n",
      "Yapmak istediğiniz işlemi seçiniz +, -, *, //\n",
      "8 / 4 = 2.0\n",
      "Birinci sayıyı giriniz:8\n",
      "İkinci sayıyı giriniz:9\n",
      "Yapmak istediğiniz işlemi seçiniz +, -, *, /-\n",
      "8 - 9 = -1\n"
     ]
    }
   ],
   "source": [
    "def hesapMakinesi(x, y, islem):\n",
    "    if islem not in '+-/*':\n",
    "        return 'lütfen islem seçiniz:\"+-/*\"!'\n",
    "    if islem=='+':\n",
    "        return (str(x)+' '+ islem + ' ' +str(y) + ' = ' + str(x+y))\n",
    "    if islem=='-':\n",
    "        return (str(x)+' '+ islem + ' ' +str(y) + ' = ' + str(x-y))\n",
    "    if islem=='*':\n",
    "        return (str(x)+' '+ islem + ' ' +str(y) + ' = ' + str(x*y))\n",
    "    if islem=='/':\n",
    "        return (str(x)+' '+ islem + ' ' +str(y) + ' = ' + str(x/y))\n",
    "while True:\n",
    "    x=int(input('Birinci sayıyı giriniz:'))\n",
    "    y=int(input('İkinci sayıyı giriniz:'))\n",
    "    islem = input(\"Yapmak istediğiniz işlemi seçiniz +, -, *, /\")\n",
    "    \n",
    "    print(hesapMakinesi(x,y,islem))"
   ]
  },
  {
   "cell_type": "code",
   "execution_count": null,
   "id": "a60b939c",
   "metadata": {},
   "outputs": [],
   "source": []
  },
  {
   "cell_type": "code",
   "execution_count": null,
   "id": "8462dbb2",
   "metadata": {},
   "outputs": [],
   "source": []
  },
  {
   "cell_type": "code",
   "execution_count": null,
   "id": "e6cbb00c",
   "metadata": {},
   "outputs": [],
   "source": []
  }
 ],
 "metadata": {
  "kernelspec": {
   "display_name": "Python 3 (ipykernel)",
   "language": "python",
   "name": "python3"
  },
  "language_info": {
   "codemirror_mode": {
    "name": "ipython",
    "version": 3
   },
   "file_extension": ".py",
   "mimetype": "text/x-python",
   "name": "python",
   "nbconvert_exporter": "python",
   "pygments_lexer": "ipython3",
   "version": "3.9.12"
  }
 },
 "nbformat": 4,
 "nbformat_minor": 5
}
