{
 "cells": [
  {
   "cell_type": "code",
   "execution_count": 1,
   "id": "39ffc972",
   "metadata": {},
   "outputs": [
    {
     "name": "stdout",
     "output_type": "stream",
     "text": [
      "1 inci sayi\n",
      "2 inci sayi\n",
      "3 inci sayi\n",
      "4 inci sayi\n",
      "5 inci sayi\n"
     ]
    }
   ],
   "source": [
    "sayilar=[1,2,3,4,5]\n",
    "for sayi in sayilar :\n",
    "    print(sayi,\"inci sayi\")"
   ]
  },
  {
   "cell_type": "code",
   "execution_count": 2,
   "id": "82ed61f0",
   "metadata": {},
   "outputs": [
    {
     "name": "stdout",
     "output_type": "stream",
     "text": [
      "3\n",
      "6\n",
      "9\n",
      "12\n",
      "15\n"
     ]
    }
   ],
   "source": [
    "sayilar2= [1,2,3,4,5]\n",
    "for sayi2 in sayilar2:\n",
    "    yenisayi=sayi2*3\n",
    "    print(yenisayi)"
   ]
  },
  {
   "cell_type": "code",
   "execution_count": 4,
   "id": "e71f88ae",
   "metadata": {},
   "outputs": [
    {
     "name": "stdout",
     "output_type": "stream",
     "text": [
      "[3, 6, 9, 12, 15]\n"
     ]
    }
   ],
   "source": [
    "sayilar3= [6,7,8,9,10]\n",
    "yenisayilar2=[]\n",
    "for sayi2 in sayilar2:\n",
    "    yenisayi=sayi2*3\n",
    "    yenisayilar2.append(yenisayi)\n",
    "print(yenisayilar2)"
   ]
  },
  {
   "cell_type": "code",
   "execution_count": 2,
   "id": "3ff80dd8",
   "metadata": {},
   "outputs": [
    {
     "name": "stdout",
     "output_type": "stream",
     "text": [
      "8\n",
      "14\n",
      "22\n"
     ]
    }
   ],
   "source": [
    "ciftsayilar=[1,8,9,14,17,22]\n",
    "for ciftsayi in ciftsayilar:\n",
    "    if ciftsayi%2==0:\n",
    "        print(ciftsayi)"
   ]
  },
  {
   "cell_type": "code",
   "execution_count": 3,
   "id": "f62f92d7",
   "metadata": {},
   "outputs": [
    {
     "name": "stdout",
     "output_type": "stream",
     "text": [
      "E\n",
      "r\n",
      "t\n",
      "u\n",
      "g\n",
      "r\n",
      "u\n",
      "l\n",
      " \n",
      "K\n",
      "i\n",
      "r\n",
      "a\n",
      "c\n"
     ]
    }
   ],
   "source": [
    "my_string=\"Ertugrul Kirac\"\n",
    "for karakter in my_string:\n",
    "    print(karakter)"
   ]
  },
  {
   "cell_type": "code",
   "execution_count": 2,
   "id": "535fd30b",
   "metadata": {},
   "outputs": [
    {
     "name": "stdout",
     "output_type": "stream",
     "text": [
      "('a', 'b')\n",
      "('c', 'd')\n",
      "('g', 'h')\n",
      "('e', 'f')\n"
     ]
    }
   ],
   "source": [
    "my_set={(\"a\",\"b\"),(\"c\",\"d\"),(\"e\",\"f\"),(\"g\",\"h\")}\n",
    "for eleman in my_set:\n",
    "    print(eleman)"
   ]
  },
  {
   "cell_type": "code",
   "execution_count": null,
   "id": "5d27e503",
   "metadata": {},
   "outputs": [],
   "source": []
  }
 ],
 "metadata": {
  "kernelspec": {
   "display_name": "Python 3 (ipykernel)",
   "language": "python",
   "name": "python3"
  },
  "language_info": {
   "codemirror_mode": {
    "name": "ipython",
    "version": 3
   },
   "file_extension": ".py",
   "mimetype": "text/x-python",
   "name": "python",
   "nbconvert_exporter": "python",
   "pygments_lexer": "ipython3",
   "version": "3.9.12"
  }
 },
 "nbformat": 4,
 "nbformat_minor": 5
}
