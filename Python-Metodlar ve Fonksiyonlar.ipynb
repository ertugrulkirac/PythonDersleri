{
 "cells": [
  {
   "cell_type": "code",
   "execution_count": 1,
   "id": "404ce6c7",
   "metadata": {},
   "outputs": [],
   "source": [
    "my_string=\"Ertugrul\""
   ]
  },
  {
   "cell_type": "code",
   "execution_count": 2,
   "id": "839dffc9",
   "metadata": {},
   "outputs": [
    {
     "data": {
      "text/plain": [
       "'Ertugrul'"
      ]
     },
     "execution_count": 2,
     "metadata": {},
     "output_type": "execute_result"
    }
   ],
   "source": [
    "my_string.capitalize()"
   ]
  },
  {
   "cell_type": "code",
   "execution_count": 3,
   "id": "268f2942",
   "metadata": {},
   "outputs": [
    {
     "data": {
      "text/plain": [
       "'ertugrul'"
      ]
     },
     "execution_count": 3,
     "metadata": {},
     "output_type": "execute_result"
    }
   ],
   "source": [
    "my_string.casefold()"
   ]
  },
  {
   "cell_type": "code",
   "execution_count": 4,
   "id": "cff6758d",
   "metadata": {},
   "outputs": [
    {
     "data": {
      "text/plain": [
       "'ERTUGRUL'"
      ]
     },
     "execution_count": 4,
     "metadata": {},
     "output_type": "execute_result"
    }
   ],
   "source": [
    "my_string.upper()"
   ]
  },
  {
   "cell_type": "code",
   "execution_count": 5,
   "id": "9fc9e5fa",
   "metadata": {},
   "outputs": [
    {
     "name": "stdout",
     "output_type": "stream",
     "text": [
      "Help on built-in function upper:\n",
      "\n",
      "upper() method of builtins.str instance\n",
      "    Return a copy of the string converted to uppercase.\n",
      "\n"
     ]
    }
   ],
   "source": [
    "help(my_string.upper)"
   ]
  },
  {
   "cell_type": "code",
   "execution_count": 6,
   "id": "d138fcdb",
   "metadata": {},
   "outputs": [],
   "source": [
    "def hello_world():\n",
    "    print(\"hello word\")"
   ]
  },
  {
   "cell_type": "code",
   "execution_count": 7,
   "id": "760b2e1f",
   "metadata": {},
   "outputs": [
    {
     "name": "stdout",
     "output_type": "stream",
     "text": [
      "hello word\n"
     ]
    }
   ],
   "source": [
    "hello_world()"
   ]
  },
  {
   "cell_type": "code",
   "execution_count": 8,
   "id": "346fa83f",
   "metadata": {},
   "outputs": [
    {
     "ename": "NameError",
     "evalue": "name 'hello_word' is not defined",
     "output_type": "error",
     "traceback": [
      "\u001b[1;31m---------------------------------------------------------------------------\u001b[0m",
      "\u001b[1;31mNameError\u001b[0m                                 Traceback (most recent call last)",
      "Input \u001b[1;32mIn [8]\u001b[0m, in \u001b[0;36m<cell line: 1>\u001b[1;34m()\u001b[0m\n\u001b[1;32m----> 1\u001b[0m \u001b[43mhello_word\u001b[49m\n",
      "\u001b[1;31mNameError\u001b[0m: name 'hello_word' is not defined"
     ]
    }
   ],
   "source": [
    "hello_word"
   ]
  },
  {
   "cell_type": "code",
   "execution_count": 11,
   "id": "12eab184",
   "metadata": {},
   "outputs": [],
   "source": [
    "def hello_world_input(name):\n",
    "    print(f\"hello {name}\")"
   ]
  },
  {
   "cell_type": "code",
   "execution_count": 12,
   "id": "7d828590",
   "metadata": {},
   "outputs": [
    {
     "ename": "TypeError",
     "evalue": "hello_world_input() missing 1 required positional argument: 'name'",
     "output_type": "error",
     "traceback": [
      "\u001b[1;31m---------------------------------------------------------------------------\u001b[0m",
      "\u001b[1;31mTypeError\u001b[0m                                 Traceback (most recent call last)",
      "Input \u001b[1;32mIn [12]\u001b[0m, in \u001b[0;36m<cell line: 1>\u001b[1;34m()\u001b[0m\n\u001b[1;32m----> 1\u001b[0m \u001b[43mhello_world_input\u001b[49m\u001b[43m(\u001b[49m\u001b[43m)\u001b[49m\n",
      "\u001b[1;31mTypeError\u001b[0m: hello_world_input() missing 1 required positional argument: 'name'"
     ]
    }
   ],
   "source": [
    "hello_world_input()"
   ]
  },
  {
   "cell_type": "code",
   "execution_count": 15,
   "id": "19fc0ee4",
   "metadata": {},
   "outputs": [
    {
     "name": "stdout",
     "output_type": "stream",
     "text": [
      "hello ertugrul\n"
     ]
    }
   ],
   "source": [
    "hello_world_input(\"ertugrul\")"
   ]
  },
  {
   "cell_type": "code",
   "execution_count": 5,
   "id": "ecb3bcae",
   "metadata": {},
   "outputs": [],
   "source": [
    "def hello_world_input(name=\"Python\"):\n",
    "    print(f\"hello {name}\")"
   ]
  },
  {
   "cell_type": "code",
   "execution_count": 6,
   "id": "f0546b71",
   "metadata": {},
   "outputs": [
    {
     "name": "stdout",
     "output_type": "stream",
     "text": [
      "hello Python\n"
     ]
    }
   ],
   "source": [
    "hello_world_input()"
   ]
  },
  {
   "cell_type": "code",
   "execution_count": 7,
   "id": "9b5cc7aa",
   "metadata": {},
   "outputs": [
    {
     "name": "stdout",
     "output_type": "stream",
     "text": [
      "hello java\n"
     ]
    }
   ],
   "source": [
    "hello_world_input(\"java\")"
   ]
  },
  {
   "cell_type": "code",
   "execution_count": 8,
   "id": "0648e464",
   "metadata": {},
   "outputs": [],
   "source": [
    "def toplama(sayi1, sayi2):\n",
    "    toplama=sayi1+sayi2\n",
    "    print(toplama)"
   ]
  },
  {
   "cell_type": "code",
   "execution_count": 9,
   "id": "59c2dda9",
   "metadata": {},
   "outputs": [
    {
     "name": "stdout",
     "output_type": "stream",
     "text": [
      "8\n"
     ]
    }
   ],
   "source": [
    "toplama(3,5)"
   ]
  },
  {
   "cell_type": "code",
   "execution_count": 14,
   "id": "8e00478a",
   "metadata": {},
   "outputs": [],
   "source": [
    "def topla(sayi1, sayi2, sayi3):\n",
    "    return sayi1 + sayi2 + sayi3"
   ]
  },
  {
   "cell_type": "code",
   "execution_count": 15,
   "id": "a5e213fa",
   "metadata": {},
   "outputs": [
    {
     "data": {
      "text/plain": [
       "31"
      ]
     },
     "execution_count": 15,
     "metadata": {},
     "output_type": "execute_result"
    }
   ],
   "source": [
    "topla(5,10,16)"
   ]
  },
  {
   "cell_type": "code",
   "execution_count": 16,
   "id": "d9dcbfe7",
   "metadata": {},
   "outputs": [
    {
     "data": {
      "text/plain": [
       "6"
      ]
     },
     "execution_count": 16,
     "metadata": {},
     "output_type": "execute_result"
    }
   ],
   "source": [
    "def topla(sayi1, sayi2, sayi3):\n",
    "    return sayi1 + sayi2 + sayi3\n",
    "sonuc=topla(1,2,3)\n",
    "sonuc"
   ]
  },
  {
   "cell_type": "code",
   "execution_count": 21,
   "id": "9081973c",
   "metadata": {
    "scrolled": true
   },
   "outputs": [
    {
     "name": "stdout",
     "output_type": "stream",
     "text": [
      "ERTUGRUL\n"
     ]
    }
   ],
   "source": [
    "def string_kontrol(strng):\n",
    "    if strng[0]==\"e\":\n",
    "        print(strng.upper())\n",
    "string_kontrol(\"ertugrul\")"
   ]
  },
  {
   "cell_type": "code",
   "execution_count": 1,
   "id": "8e406c22",
   "metadata": {},
   "outputs": [],
   "source": [
    "def coklu_toplama(*args):\n",
    "    return sum(args)"
   ]
  },
  {
   "cell_type": "code",
   "execution_count": 2,
   "id": "f9a82cf3",
   "metadata": {},
   "outputs": [
    {
     "data": {
      "text/plain": [
       "28"
      ]
     },
     "execution_count": 2,
     "metadata": {},
     "output_type": "execute_result"
    }
   ],
   "source": [
    "coklu_toplama(1,2,3,4,5,6,7)"
   ]
  },
  {
   "cell_type": "code",
   "execution_count": 3,
   "id": "7acd01fc",
   "metadata": {},
   "outputs": [],
   "source": [
    "def benim_fonksiyonum(*ert):\n",
    "    return sum(ert)"
   ]
  },
  {
   "cell_type": "code",
   "execution_count": 4,
   "id": "0f2a8600",
   "metadata": {},
   "outputs": [
    {
     "data": {
      "text/plain": [
       "50"
      ]
     },
     "execution_count": 4,
     "metadata": {},
     "output_type": "execute_result"
    }
   ],
   "source": [
    "benim_fonksiyonum(5,10,15,20)"
   ]
  },
  {
   "cell_type": "code",
   "execution_count": 2,
   "id": "53e44e57",
   "metadata": {},
   "outputs": [],
   "source": [
    "def ornek_func(**kwargs):\n",
    "    print(kwargs)"
   ]
  },
  {
   "cell_type": "code",
   "execution_count": 3,
   "id": "f9b99254",
   "metadata": {},
   "outputs": [
    {
     "name": "stdout",
     "output_type": "stream",
     "text": [
      "{'fizik': 50, 'matematik': 70, 'kimya': 30, 'biyoloji': 10}\n"
     ]
    }
   ],
   "source": [
    "ornek_func(fizik=50, matematik=70, kimya=30, biyoloji=10)"
   ]
  },
  {
   "cell_type": "markdown",
   "id": "82b21f47",
   "metadata": {},
   "source": []
  }
 ],
 "metadata": {
  "kernelspec": {
   "display_name": "Python 3 (ipykernel)",
   "language": "python",
   "name": "python3"
  },
  "language_info": {
   "codemirror_mode": {
    "name": "ipython",
    "version": 3
   },
   "file_extension": ".py",
   "mimetype": "text/x-python",
   "name": "python",
   "nbconvert_exporter": "python",
   "pygments_lexer": "ipython3",
   "version": "3.9.12"
  }
 },
 "nbformat": 4,
 "nbformat_minor": 5
}
