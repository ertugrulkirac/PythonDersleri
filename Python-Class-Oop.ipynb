{
 "cells": [
  {
   "cell_type": "code",
   "execution_count": 12,
   "id": "b811b365",
   "metadata": {
    "scrolled": true
   },
   "outputs": [
    {
     "name": "stdout",
     "output_type": "stream",
     "text": [
      "Ertugrul Kirac\n"
     ]
    }
   ],
   "source": [
    "class Ogrenci():\n",
    "    def __init__(self, ad, soyad):\n",
    "        self.ad=ad\n",
    "        self.soyad=soyad\n",
    "ogrenci_=Ogrenci('Ertugrul', 'Kirac')\n",
    "print(ogrenci_.ad + ' ' + ogrenci_.soyad)"
   ]
  },
  {
   "cell_type": "markdown",
   "id": "f4e1f1e2",
   "metadata": {},
   "source": [
    " "
   ]
  }
 ],
 "metadata": {
  "kernelspec": {
   "display_name": "Python 3 (ipykernel)",
   "language": "python",
   "name": "python3"
  },
  "language_info": {
   "codemirror_mode": {
    "name": "ipython",
    "version": 3
   },
   "file_extension": ".py",
   "mimetype": "text/x-python",
   "name": "python",
   "nbconvert_exporter": "python",
   "pygments_lexer": "ipython3",
   "version": "3.9.12"
  }
 },
 "nbformat": 4,
 "nbformat_minor": 5
}
