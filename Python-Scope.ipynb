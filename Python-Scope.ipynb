{
 "cells": [
  {
   "cell_type": "code",
   "execution_count": 15,
   "id": "6ed8de09",
   "metadata": {},
   "outputs": [
    {
     "name": "stdout",
     "output_type": "stream",
     "text": [
      "2 20\n"
     ]
    }
   ],
   "source": [
    "sayi=2 \n",
    "def carpma(sayi2):\n",
    "    sayi=4\n",
    "    return sayi * sayi2\n",
    "print(sayi,carpma(5)) \n",
    "#LEGB--Local--Enclosing--Global--Built--in"
   ]
  },
  {
   "cell_type": "code",
   "execution_count": 20,
   "id": "f463fa52",
   "metadata": {},
   "outputs": [
    {
     "name": "stdout",
     "output_type": "stream",
     "text": [
      "'fonksiyon1' içersinde yer alan meyveAdi değeri:Kiraz\n",
      "'fonksiyon2' içersinde yer alan meyveAdi değeri:Çilek\n",
      " fonksiyon sonunda dönen meyveAdi değeri:Elma\n"
     ]
    }
   ],
   "source": [
    "meyveAdi=\"Elma\" #Global\n",
    "def fonksiyon1():\n",
    "    meyveAdi=\"Kiraz\" #Enclosing\n",
    "    print(f\"'fonksiyon1' içersinde yer alan meyveAdi değeri:{meyveAdi}\")\n",
    "    def fonksiyon2():\n",
    "        meyveAdi=\"Çilek\" #Local\n",
    "        print(f\"'fonksiyon2' içersinde yer alan meyveAdi değeri:{meyveAdi}\")\n",
    "    fonksiyon2()\n",
    "fonksiyon1()\n",
    "print(f\" fonksiyon sonunda dönen meyveAdi değeri:{meyveAdi}\")       "
   ]
  },
  {
   "cell_type": "code",
   "execution_count": 22,
   "id": "3f670a96",
   "metadata": {},
   "outputs": [
    {
     "name": "stdout",
     "output_type": "stream",
     "text": [
      "x'in global değeri:10\n",
      "x'in local değeri:5\n",
      "x'in yeni global değeri:5\n"
     ]
    }
   ],
   "source": [
    "x=10\n",
    "print(f\"x'in global değeri:{x}\")\n",
    "def yeniDeger():\n",
    "    global x\n",
    "    x=5\n",
    "    print(f\"x'in local değeri:{x}\")\n",
    "yeniDeger()\n",
    "print(f\"x'in yeni global değeri:{x}\")  "
   ]
  },
  {
   "cell_type": "code",
   "execution_count": null,
   "id": "490cc0fc",
   "metadata": {},
   "outputs": [],
   "source": []
  }
 ],
 "metadata": {
  "kernelspec": {
   "display_name": "Python 3 (ipykernel)",
   "language": "python",
   "name": "python3"
  },
  "language_info": {
   "codemirror_mode": {
    "name": "ipython",
    "version": 3
   },
   "file_extension": ".py",
   "mimetype": "text/x-python",
   "name": "python",
   "nbconvert_exporter": "python",
   "pygments_lexer": "ipython3",
   "version": "3.9.12"
  }
 },
 "nbformat": 4,
 "nbformat_minor": 5
}
