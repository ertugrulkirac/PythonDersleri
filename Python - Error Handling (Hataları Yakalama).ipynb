{
 "cells": [
  {
   "cell_type": "code",
   "execution_count": 7,
   "id": "579a3829",
   "metadata": {},
   "outputs": [
    {
     "name": "stdout",
     "output_type": "stream",
     "text": [
      "Birinci sayıyı giriniz.5\n",
      "Birinci sayıyı giriniz.4\n"
     ]
    },
    {
     "data": {
      "text/plain": [
       "9"
      ]
     },
     "execution_count": 7,
     "metadata": {},
     "output_type": "execute_result"
    }
   ],
   "source": [
    "def toplama(sayi1, sayi2):\n",
    "    return sayi1+sayi2\n",
    "sayi1=int(input(\"Birinci sayıyı giriniz.\"))\n",
    "sayi2=int(input(\"Birinci sayıyı giriniz.\"))\n",
    "toplama(sayi1,sayi2)"
   ]
  },
  {
   "cell_type": "code",
   "execution_count": 8,
   "id": "f5061670",
   "metadata": {},
   "outputs": [
    {
     "name": "stdout",
     "output_type": "stream",
     "text": [
      "Birinci sayıyı giriniz.5\n",
      "Birinci sayıyı giriniz.ertugrul\n"
     ]
    },
    {
     "ename": "ValueError",
     "evalue": "invalid literal for int() with base 10: 'ertugrul'",
     "output_type": "error",
     "traceback": [
      "\u001b[1;31m---------------------------------------------------------------------------\u001b[0m",
      "\u001b[1;31mValueError\u001b[0m                                Traceback (most recent call last)",
      "\u001b[1;32m~\\AppData\\Local\\Temp\\ipykernel_2364\\3782623058.py\u001b[0m in \u001b[0;36m<module>\u001b[1;34m\u001b[0m\n\u001b[0;32m      2\u001b[0m     \u001b[1;32mreturn\u001b[0m \u001b[0msayi1\u001b[0m\u001b[1;33m+\u001b[0m\u001b[0msayi2\u001b[0m\u001b[1;33m\u001b[0m\u001b[1;33m\u001b[0m\u001b[0m\n\u001b[0;32m      3\u001b[0m \u001b[0msayi1\u001b[0m\u001b[1;33m=\u001b[0m\u001b[0mint\u001b[0m\u001b[1;33m(\u001b[0m\u001b[0minput\u001b[0m\u001b[1;33m(\u001b[0m\u001b[1;34m\"Birinci sayıyı giriniz.\"\u001b[0m\u001b[1;33m)\u001b[0m\u001b[1;33m)\u001b[0m\u001b[1;33m\u001b[0m\u001b[1;33m\u001b[0m\u001b[0m\n\u001b[1;32m----> 4\u001b[1;33m \u001b[0msayi2\u001b[0m\u001b[1;33m=\u001b[0m\u001b[0mint\u001b[0m\u001b[1;33m(\u001b[0m\u001b[0minput\u001b[0m\u001b[1;33m(\u001b[0m\u001b[1;34m\"Birinci sayıyı giriniz.\"\u001b[0m\u001b[1;33m)\u001b[0m\u001b[1;33m)\u001b[0m\u001b[1;33m\u001b[0m\u001b[1;33m\u001b[0m\u001b[0m\n\u001b[0m\u001b[0;32m      5\u001b[0m \u001b[0mtoplama\u001b[0m\u001b[1;33m(\u001b[0m\u001b[0msayi1\u001b[0m\u001b[1;33m,\u001b[0m\u001b[0msayi2\u001b[0m\u001b[1;33m)\u001b[0m\u001b[1;33m\u001b[0m\u001b[1;33m\u001b[0m\u001b[0m\n",
      "\u001b[1;31mValueError\u001b[0m: invalid literal for int() with base 10: 'ertugrul'"
     ]
    }
   ],
   "source": [
    "def toplama(sayi1, sayi2):\n",
    "    return sayi1+sayi2\n",
    "sayi1=int(input(\"Birinci sayıyı giriniz.\"))\n",
    "sayi2=int(input(\"Birinci sayıyı giriniz.\"))\n",
    "toplama(sayi1,sayi2)"
   ]
  },
  {
   "cell_type": "code",
   "execution_count": 10,
   "id": "b0254de7",
   "metadata": {},
   "outputs": [
    {
     "name": "stdout",
     "output_type": "stream",
     "text": [
      "Bir sayı giriniz.yt\n",
      "Lütfen bir sayı giriniz!\n"
     ]
    }
   ],
   "source": [
    "try:\n",
    "    x=int(input(\"Bir sayı giriniz.\"))\n",
    "except:\n",
    "    print(\"Lütfen bir sayı giriniz!\")"
   ]
  },
  {
   "cell_type": "code",
   "execution_count": null,
   "id": "ecdfc2bf",
   "metadata": {},
   "outputs": [
    {
     "name": "stdout",
     "output_type": "stream",
     "text": [
      "Bir sayı giriniz.t\n",
      "Lütfen bir sayı giriniz!\n",
      "finally bloğu\n",
      "Bir sayı giriniz.7\n",
      "OK\n",
      "finally bloğu\n",
      "Bir sayı giriniz.6\n",
      "OK\n",
      "finally bloğu\n"
     ]
    }
   ],
   "source": [
    "while True:\n",
    "    try:\n",
    "        x=int(input(\"Bir sayı giriniz.\"))\n",
    "    except:\n",
    "        print(\"Lütfen bir sayı giriniz!\")\n",
    "    else:\n",
    "        print(\"OK\")\n",
    "    finally:\n",
    "        print(\"finally bloğu\")\n",
    "    "
   ]
  },
  {
   "cell_type": "code",
   "execution_count": null,
   "id": "682179ec",
   "metadata": {},
   "outputs": [],
   "source": []
  }
 ],
 "metadata": {
  "kernelspec": {
   "display_name": "Python 3 (ipykernel)",
   "language": "python",
   "name": "python3"
  },
  "language_info": {
   "codemirror_mode": {
    "name": "ipython",
    "version": 3
   },
   "file_extension": ".py",
   "mimetype": "text/x-python",
   "name": "python",
   "nbconvert_exporter": "python",
   "pygments_lexer": "ipython3",
   "version": "3.9.12"
  }
 },
 "nbformat": 4,
 "nbformat_minor": 5
}
