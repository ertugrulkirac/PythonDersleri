{
 "cells": [
  {
   "cell_type": "code",
   "execution_count": 1,
   "id": "e3c15f06",
   "metadata": {},
   "outputs": [
    {
     "name": "stdout",
     "output_type": "stream",
     "text": [
      "5 sayısı 4 sayısından büyüktür\n"
     ]
    }
   ],
   "source": [
    "if 5>4 :\n",
    "    print(\"5 sayısı 4 sayısından büyüktür\")"
   ]
  },
  {
   "cell_type": "code",
   "execution_count": 2,
   "id": "c3a0b947",
   "metadata": {},
   "outputs": [
    {
     "name": "stdout",
     "output_type": "stream",
     "text": [
      "x sayısı y sayısından küçüktür\n"
     ]
    }
   ],
   "source": [
    "x=2\n",
    "y=9\n",
    "if x<y :\n",
    "    print(\"x sayısı y sayısından küçüktür\")"
   ]
  },
  {
   "cell_type": "code",
   "execution_count": 3,
   "id": "89ca2f1a",
   "metadata": {},
   "outputs": [
    {
     "name": "stdout",
     "output_type": "stream",
     "text": [
      "x sayısı y sayısından büyüktür.\n"
     ]
    }
   ],
   "source": [
    "x=7\n",
    "y=5\n",
    "if x>y:\n",
    "    print(\"x sayısı y sayısından büyüktür.\")\n",
    "else:\n",
    "    print(\"y sayısı x sayısından büyüktür.\")"
   ]
  },
  {
   "cell_type": "code",
   "execution_count": 5,
   "id": "75e5b7f6",
   "metadata": {},
   "outputs": [
    {
     "name": "stdout",
     "output_type": "stream",
     "text": [
      "x sayısı y sayısına eşittir.\n"
     ]
    }
   ],
   "source": [
    "x=8\n",
    "y=8\n",
    "if x>y:\n",
    "    print(\"x sayısı y sayısından büyüktür.\")\n",
    "elif x==y:\n",
    "    print(\"x sayısı y sayısına eşittir.\")\n",
    "else:\n",
    "    print(\"y sayısı x sayısından büyüktür.\")"
   ]
  },
  {
   "cell_type": "code",
   "execution_count": 10,
   "id": "7617f679",
   "metadata": {},
   "outputs": [
    {
     "name": "stdout",
     "output_type": "stream",
     "text": [
      "bir sayı giriniz :10\n",
      "x sayısı y sayısına eşittir.\n"
     ]
    }
   ],
   "source": [
    "x=int(input(\"bir sayı giriniz :\"))\n",
    "y=10\n",
    "if x>y :\n",
    "    print(\"x sayısı y sayısından büyüktür.\")\n",
    "elif x==y:\n",
    "    print(\"x sayısı y sayısına eşittir.\")\n",
    "else:\n",
    "    print(\"y sayısı x sayısından büyüktür.\")"
   ]
  },
  {
   "cell_type": "code",
   "execution_count": 12,
   "id": "89888b2c",
   "metadata": {},
   "outputs": [
    {
     "name": "stdout",
     "output_type": "stream",
     "text": [
      "true\n"
     ]
    }
   ],
   "source": [
    "sayilar=[1, 2, 3, 4, 5]\n",
    "kelimeler =\"Çok yaşa\"\n",
    "\n",
    "if (1 in sayilar) and (\"yaşa\" in kelimeler):\n",
    "    print(\"true\")\n",
    "elif(4 in sayilar) or (\"az\" in kelimeler):\n",
    "    print(\"true\")\n",
    "else:\n",
    "    print(\"false\")"
   ]
  },
  {
   "cell_type": "code",
   "execution_count": null,
   "id": "84e659ea",
   "metadata": {},
   "outputs": [],
   "source": [
    "\n"
   ]
  }
 ],
 "metadata": {
  "kernelspec": {
   "display_name": "Python 3 (ipykernel)",
   "language": "python",
   "name": "python3"
  },
  "language_info": {
   "codemirror_mode": {
    "name": "ipython",
    "version": 3
   },
   "file_extension": ".py",
   "mimetype": "text/x-python",
   "name": "python",
   "nbconvert_exporter": "python",
   "pygments_lexer": "ipython3",
   "version": "3.9.12"
  }
 },
 "nbformat": 4,
 "nbformat_minor": 5
}
